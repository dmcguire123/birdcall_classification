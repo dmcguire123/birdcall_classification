{
 "cells": [
  {
   "cell_type": "code",
   "execution_count": 1,
   "id": "e4d3909c-6dba-4e38-9fec-69d0d3a561a1",
   "metadata": {},
   "outputs": [],
   "source": [
    "#Birdcall Classification"
   ]
  }
 ],
 "metadata": {
  "kernelspec": {
   "display_name": "Python 3",
   "language": "python",
   "name": "python3"
  },
  "language_info": {
   "codemirror_mode": {
    "name": "ipython",
    "version": 3
   },
   "file_extension": ".py",
   "mimetype": "text/x-python",
   "name": "python",
   "nbconvert_exporter": "python",
   "pygments_lexer": "ipython3",
   "version": "3.8.7"
  }
 },
 "nbformat": 4,
 "nbformat_minor": 5
}
